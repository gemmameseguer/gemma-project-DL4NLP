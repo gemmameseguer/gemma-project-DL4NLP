{
 "cells": [
  {
   "cell_type": "markdown",
   "metadata": {},
   "source": [
    "# Creating training, dev and test splits"
   ]
  },
  {
   "cell_type": "code",
   "execution_count": 1,
   "metadata": {},
   "outputs": [],
   "source": [
    "import pandas as pd\n",
    "from sklearn.model_selection import train_test_split"
   ]
  },
  {
   "cell_type": "code",
   "execution_count": 2,
   "metadata": {},
   "outputs": [
    {
     "data": {
      "text/html": [
       "<div>\n",
       "<style scoped>\n",
       "    .dataframe tbody tr th:only-of-type {\n",
       "        vertical-align: middle;\n",
       "    }\n",
       "\n",
       "    .dataframe tbody tr th {\n",
       "        vertical-align: top;\n",
       "    }\n",
       "\n",
       "    .dataframe thead th {\n",
       "        text-align: right;\n",
       "    }\n",
       "</style>\n",
       "<table border=\"1\" class=\"dataframe\">\n",
       "  <thead>\n",
       "    <tr style=\"text-align: right;\">\n",
       "      <th></th>\n",
       "      <th>Contents</th>\n",
       "      <th>Label</th>\n",
       "    </tr>\n",
       "  </thead>\n",
       "  <tbody>\n",
       "    <tr>\n",
       "      <th>0</th>\n",
       "      <td>@chumeltorres ya cabrón! sin tí se reciben las...</td>\n",
       "      <td>biased</td>\n",
       "    </tr>\n",
       "    <tr>\n",
       "      <th>1</th>\n",
       "      <td>¿alguien es tan amable de ir a hacerme la comp...</td>\n",
       "      <td>non-biased</td>\n",
       "    </tr>\n",
       "    <tr>\n",
       "      <th>2</th>\n",
       "      <td>@jenniferduquee hahaha, si está rico, nadamas ...</td>\n",
       "      <td>non-biased</td>\n",
       "    </tr>\n",
       "    <tr>\n",
       "      <th>3</th>\n",
       "      <td>@evagelcot donde lo ves!!? es mi programa favo...</td>\n",
       "      <td>non-biased</td>\n",
       "    </tr>\n",
       "    <tr>\n",
       "      <th>4</th>\n",
       "      <td>como siempre mi tortilla triunfa mas que otros...</td>\n",
       "      <td>non-biased</td>\n",
       "    </tr>\n",
       "    <tr>\n",
       "      <th>...</th>\n",
       "      <td>...</td>\n",
       "      <td>...</td>\n",
       "    </tr>\n",
       "    <tr>\n",
       "      <th>1909</th>\n",
       "      <td>iba a ir a dash pero mis 3 cortadas, mi color ...</td>\n",
       "      <td>non-biased</td>\n",
       "    </tr>\n",
       "    <tr>\n",
       "      <th>1910</th>\n",
       "      <td>que pinche chiste tiene estar medio alto si to...</td>\n",
       "      <td>non-biased</td>\n",
       "    </tr>\n",
       "    <tr>\n",
       "      <th>1911</th>\n",
       "      <td>si fuera bien idiota. ya hubiera comprado un a...</td>\n",
       "      <td>non-biased</td>\n",
       "    </tr>\n",
       "    <tr>\n",
       "      <th>1912</th>\n",
       "      <td>nota mental: no le quieras ayudar a alguien qu...</td>\n",
       "      <td>non-biased</td>\n",
       "    </tr>\n",
       "    <tr>\n",
       "      <th>1913</th>\n",
       "      <td>vamos @arvenlol, dales duro como tú sabes  #lo...</td>\n",
       "      <td>non-biased</td>\n",
       "    </tr>\n",
       "  </tbody>\n",
       "</table>\n",
       "<p>1914 rows × 2 columns</p>\n",
       "</div>"
      ],
      "text/plain": [
       "                                               Contents       Label\n",
       "0     @chumeltorres ya cabrón! sin tí se reciben las...      biased\n",
       "1     ¿alguien es tan amable de ir a hacerme la comp...  non-biased\n",
       "2     @jenniferduquee hahaha, si está rico, nadamas ...  non-biased\n",
       "3     @evagelcot donde lo ves!!? es mi programa favo...  non-biased\n",
       "4     como siempre mi tortilla triunfa mas que otros...  non-biased\n",
       "...                                                 ...         ...\n",
       "1909  iba a ir a dash pero mis 3 cortadas, mi color ...  non-biased\n",
       "1910  que pinche chiste tiene estar medio alto si to...  non-biased\n",
       "1911  si fuera bien idiota. ya hubiera comprado un a...  non-biased\n",
       "1912  nota mental: no le quieras ayudar a alguien qu...  non-biased\n",
       "1913  vamos @arvenlol, dales duro como tú sabes  #lo...  non-biased\n",
       "\n",
       "[1914 rows x 2 columns]"
      ]
     },
     "execution_count": 2,
     "metadata": {},
     "output_type": "execute_result"
    }
   ],
   "source": [
    "dataset = pd.read_csv('Gender_bias_spanish.csv')\n",
    "dataset"
   ]
  },
  {
   "cell_type": "code",
   "execution_count": 4,
   "metadata": {},
   "outputs": [
    {
     "name": "stderr",
     "output_type": "stream",
     "text": [
      "/var/folders/s0/4h4_2s7n3wxbm06wx8y43mm80000gn/T/ipykernel_65151/120667749.py:3: FutureWarning: Downcasting behavior in `replace` is deprecated and will be removed in a future version. To retain the old behavior, explicitly call `result.infer_objects(copy=False)`. To opt-in to the future behavior, set `pd.set_option('future.no_silent_downcasting', True)`\n",
      "  dataset['Label'] = dataset['Label'].replace('non-biased', 0)\n"
     ]
    },
    {
     "data": {
      "text/html": [
       "<div>\n",
       "<style scoped>\n",
       "    .dataframe tbody tr th:only-of-type {\n",
       "        vertical-align: middle;\n",
       "    }\n",
       "\n",
       "    .dataframe tbody tr th {\n",
       "        vertical-align: top;\n",
       "    }\n",
       "\n",
       "    .dataframe thead th {\n",
       "        text-align: right;\n",
       "    }\n",
       "</style>\n",
       "<table border=\"1\" class=\"dataframe\">\n",
       "  <thead>\n",
       "    <tr style=\"text-align: right;\">\n",
       "      <th></th>\n",
       "      <th>Contents</th>\n",
       "      <th>Label</th>\n",
       "    </tr>\n",
       "  </thead>\n",
       "  <tbody>\n",
       "    <tr>\n",
       "      <th>0</th>\n",
       "      <td>@chumeltorres ya cabrón! sin tí se reciben las...</td>\n",
       "      <td>1</td>\n",
       "    </tr>\n",
       "    <tr>\n",
       "      <th>1</th>\n",
       "      <td>¿alguien es tan amable de ir a hacerme la comp...</td>\n",
       "      <td>0</td>\n",
       "    </tr>\n",
       "    <tr>\n",
       "      <th>2</th>\n",
       "      <td>@jenniferduquee hahaha, si está rico, nadamas ...</td>\n",
       "      <td>0</td>\n",
       "    </tr>\n",
       "    <tr>\n",
       "      <th>3</th>\n",
       "      <td>@evagelcot donde lo ves!!? es mi programa favo...</td>\n",
       "      <td>0</td>\n",
       "    </tr>\n",
       "    <tr>\n",
       "      <th>4</th>\n",
       "      <td>como siempre mi tortilla triunfa mas que otros...</td>\n",
       "      <td>0</td>\n",
       "    </tr>\n",
       "    <tr>\n",
       "      <th>...</th>\n",
       "      <td>...</td>\n",
       "      <td>...</td>\n",
       "    </tr>\n",
       "    <tr>\n",
       "      <th>1909</th>\n",
       "      <td>iba a ir a dash pero mis 3 cortadas, mi color ...</td>\n",
       "      <td>0</td>\n",
       "    </tr>\n",
       "    <tr>\n",
       "      <th>1910</th>\n",
       "      <td>que pinche chiste tiene estar medio alto si to...</td>\n",
       "      <td>0</td>\n",
       "    </tr>\n",
       "    <tr>\n",
       "      <th>1911</th>\n",
       "      <td>si fuera bien idiota. ya hubiera comprado un a...</td>\n",
       "      <td>0</td>\n",
       "    </tr>\n",
       "    <tr>\n",
       "      <th>1912</th>\n",
       "      <td>nota mental: no le quieras ayudar a alguien qu...</td>\n",
       "      <td>0</td>\n",
       "    </tr>\n",
       "    <tr>\n",
       "      <th>1913</th>\n",
       "      <td>vamos @arvenlol, dales duro como tú sabes  #lo...</td>\n",
       "      <td>0</td>\n",
       "    </tr>\n",
       "  </tbody>\n",
       "</table>\n",
       "<p>1914 rows × 2 columns</p>\n",
       "</div>"
      ],
      "text/plain": [
       "                                               Contents  Label\n",
       "0     @chumeltorres ya cabrón! sin tí se reciben las...      1\n",
       "1     ¿alguien es tan amable de ir a hacerme la comp...      0\n",
       "2     @jenniferduquee hahaha, si está rico, nadamas ...      0\n",
       "3     @evagelcot donde lo ves!!? es mi programa favo...      0\n",
       "4     como siempre mi tortilla triunfa mas que otros...      0\n",
       "...                                                 ...    ...\n",
       "1909  iba a ir a dash pero mis 3 cortadas, mi color ...      0\n",
       "1910  que pinche chiste tiene estar medio alto si to...      0\n",
       "1911  si fuera bien idiota. ya hubiera comprado un a...      0\n",
       "1912  nota mental: no le quieras ayudar a alguien qu...      0\n",
       "1913  vamos @arvenlol, dales duro como tú sabes  #lo...      0\n",
       "\n",
       "[1914 rows x 2 columns]"
      ]
     },
     "execution_count": 4,
     "metadata": {},
     "output_type": "execute_result"
    }
   ],
   "source": [
    "# Change labels to binary\n",
    "dataset['Label'] = dataset['Label'].replace('biased', 1)\n",
    "dataset['Label'] = dataset['Label'].replace('non-biased', 0)\n",
    "dataset"
   ]
  },
  {
   "cell_type": "code",
   "execution_count": 5,
   "metadata": {},
   "outputs": [],
   "source": [
    "# Making the splits\n",
    "train_data, remaining = train_test_split(dataset, test_size=0.3, random_state=42)\n",
    "test_data, val_data = train_test_split(remaining, test_size=0.5, random_state=42)"
   ]
  },
  {
   "cell_type": "code",
   "execution_count": 6,
   "metadata": {},
   "outputs": [
    {
     "name": "stdout",
     "output_type": "stream",
     "text": [
      "Training data shape: (1339, 2)\n",
      "Validation data shape: (288, 2)\n",
      "Test data shape: (287, 2)\n"
     ]
    }
   ],
   "source": [
    "# Print the shapes of the resulting data splits\n",
    "print(\"Training data shape:\", train_data.shape)\n",
    "print(\"Validation data shape:\", val_data.shape)\n",
    "print(\"Test data shape:\", test_data.shape)\n"
   ]
  },
  {
   "cell_type": "code",
   "execution_count": null,
   "metadata": {},
   "outputs": [],
   "source": [
    "# Save the data splits to the data folder\n",
    "train_data.to_csv(\"train_data.csv\", index=False)\n",
    "val_data.to_csv(\"val_data.csv\", index=False)\n",
    "test_data.to_csv(\"test_data.csv\", index=False)"
   ]
  }
 ],
 "metadata": {
  "kernelspec": {
   "display_name": ".venv",
   "language": "python",
   "name": "python3"
  },
  "language_info": {
   "codemirror_mode": {
    "name": "ipython",
    "version": 3
   },
   "file_extension": ".py",
   "mimetype": "text/x-python",
   "name": "python",
   "nbconvert_exporter": "python",
   "pygments_lexer": "ipython3",
   "version": "3.10.13"
  }
 },
 "nbformat": 4,
 "nbformat_minor": 2
}
